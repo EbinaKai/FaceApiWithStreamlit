{
 "cells": [
  {
   "cell_type": "code",
   "execution_count": null,
   "metadata": {},
   "outputs": [],
   "source": [
    "import requests\n",
    "from PIL import Image, ImageDraw, ImageFont\n",
    "import io\n",
    "import os\n",
    "from os.path import join, dirname\n",
    "from dotenv import load_dotenv"
   ]
  },
  {
   "cell_type": "code",
   "execution_count": null,
   "metadata": {},
   "outputs": [],
   "source": [
    "load_dotenv(verbose=True)\n",
    "dotenv_path = join(dirname('__file__'), '.env')\n",
    "subscription_key = os.environ.get(\"AZURE_KEY\")"
   ]
  },
  {
   "cell_type": "code",
   "execution_count": null,
   "metadata": {},
   "outputs": [],
   "source": [
    "assert subscription_key"
   ]
  },
  {
   "cell_type": "code",
   "execution_count": null,
   "metadata": {},
   "outputs": [],
   "source": [
    "face_api_url = 'https://20220220ebi.cognitiveservices.azure.com/face/v1.0/detect'"
   ]
  },
  {
   "cell_type": "code",
   "execution_count": null,
   "metadata": {},
   "outputs": [],
   "source": [
    "img = Image.open('images/sample.jpg')\n",
    "img"
   ]
  },
  {
   "cell_type": "code",
   "execution_count": null,
   "metadata": {},
   "outputs": [],
   "source": [
    "with io.BytesIO() as output:\n",
    "    img.save(output, format='JPEG')\n",
    "    binary_img = output.getvalue()\n"
   ]
  },
  {
   "cell_type": "code",
   "execution_count": null,
   "metadata": {},
   "outputs": [],
   "source": [
    "headers = {\n",
    "    \"Content-Type\": \"application/octet-stream\",\n",
    "    'Ocp-Apim-Subscription-Key': subscription_key\n",
    "}\n",
    "params = {\n",
    "    'returnFaceId': 'true',\n",
    "    'returnFaceAttributes': 'age,gender',\n",
    "}\n",
    "\n",
    "image_url = 'https://raw.githubusercontent.com/Azure-Samples/cognitive-services-sample-data-files/master/ComputerVision/Images/faces.jpg'\n",
    "\n",
    "res = requests.post(face_api_url, params=params, headers=headers, data=binary_img)"
   ]
  },
  {
   "cell_type": "code",
   "execution_count": null,
   "metadata": {},
   "outputs": [],
   "source": [
    "res"
   ]
  },
  {
   "cell_type": "code",
   "execution_count": null,
   "metadata": {},
   "outputs": [],
   "source": [
    "results = res.json()\n",
    "if not results:\n",
    "    print('画像から顔を検出できませんでした。')\n",
    "results"
   ]
  },
  {
   "cell_type": "code",
   "execution_count": null,
   "metadata": {},
   "outputs": [],
   "source": [
    "rect = results[0]['faceRectangle']\n",
    "rect"
   ]
  },
  {
   "cell_type": "code",
   "execution_count": null,
   "metadata": {},
   "outputs": [],
   "source": [
    "draw = ImageDraw.Draw(img)"
   ]
  },
  {
   "cell_type": "code",
   "execution_count": null,
   "metadata": {},
   "outputs": [],
   "source": [
    "# BBを描画\n",
    "for result in results:\n",
    "    rect = result['faceRectangle']\n",
    "    atter = result['faceAttributes']\n",
    "\n",
    "    draw = ImageDraw.Draw(img)\n",
    "    draw.rectangle(\n",
    "        [(rect['left'], rect['top']),\n",
    "        (rect['left']+rect['width'], rect['top']+rect['height'])],\n",
    "        fill=None,\n",
    "        outline='blue',\n",
    "        width=5\n",
    "    )\n",
    "        \n",
    "    caption = atter['gender']+', age:'+str(atter['age'])\n",
    "    font = ImageFont.truetype(\"/System/Library/Fonts/AppleSDGothicNeo.ttc\", size=40)\n",
    "    position = (rect['left']+10, rect['top']-40)\n",
    "    draw.text(position, caption, 'white', font=font)"
   ]
  },
  {
   "cell_type": "code",
   "execution_count": null,
   "metadata": {},
   "outputs": [],
   "source": [
    "results"
   ]
  }
 ],
 "metadata": {
  "interpreter": {
   "hash": "b3a03713e3855766cfacdd1fddeb32b469d36796b7bc1a48998fd7c37b21d102"
  },
  "kernelspec": {
   "display_name": "Python 3.8.12 ('ds')",
   "language": "python",
   "name": "python3"
  },
  "language_info": {
   "codemirror_mode": {
    "name": "ipython",
    "version": 3
   },
   "file_extension": ".py",
   "mimetype": "text/x-python",
   "name": "python",
   "nbconvert_exporter": "python",
   "pygments_lexer": "ipython3",
   "version": "3.9.13"
  },
  "orig_nbformat": 4
 },
 "nbformat": 4,
 "nbformat_minor": 2
}
